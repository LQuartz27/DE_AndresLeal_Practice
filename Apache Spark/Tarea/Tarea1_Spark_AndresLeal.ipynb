{
 "cells": [
  {
   "cell_type": "code",
   "execution_count": 0,
   "metadata": {
    "application/vnd.databricks.v1+cell": {
     "cellMetadata": {},
     "inputWidgets": {},
     "nuid": "f6cd22ae-e53f-4ed5-a8a5-3a7a0052af37",
     "showTitle": false,
     "title": ""
    }
   },
   "outputs": [],
   "source": [
    "from pyspark.sql.functions import *"
   ]
  },
  {
   "cell_type": "code",
   "execution_count": 0,
   "metadata": {
    "application/vnd.databricks.v1+cell": {
     "cellMetadata": {},
     "inputWidgets": {},
     "nuid": "48d40a68-9dfc-43a2-b2be-415253633ca3",
     "showTitle": false,
     "title": ""
    }
   },
   "outputs": [
    {
     "data": {
      "text/html": [
       "\n",
       "            <div>\n",
       "                <p><b>SparkSession - hive</b></p>\n",
       "                \n",
       "        <div>\n",
       "            <p><b>SparkContext</b></p>\n",
       "\n",
       "            <p><a href=\"/?o=3947170465009027#setting/sparkui/0105-001748-q9l6s2eq/driver-1311449599749847713\">Spark UI</a></p>\n",
       "\n",
       "            <dl>\n",
       "              <dt>Version</dt>\n",
       "                <dd><code>v3.3.0</code></dd>\n",
       "              <dt>Master</dt>\n",
       "                <dd><code>local[8]</code></dd>\n",
       "              <dt>AppName</dt>\n",
       "                <dd><code>Databricks Shell</code></dd>\n",
       "            </dl>\n",
       "        </div>\n",
       "        \n",
       "            </div>\n",
       "        "
      ]
     },
     "metadata": {
      "application/vnd.databricks.v1+output": {
       "addedWidgets": {},
       "arguments": {},
       "data": "\n            <div>\n                <p><b>SparkSession - hive</b></p>\n                \n        <div>\n            <p><b>SparkContext</b></p>\n\n            <p><a href=\"/?o=3947170465009027#setting/sparkui/0105-001748-q9l6s2eq/driver-1311449599749847713\">Spark UI</a></p>\n\n            <dl>\n              <dt>Version</dt>\n                <dd><code>v3.3.0</code></dd>\n              <dt>Master</dt>\n                <dd><code>local[8]</code></dd>\n              <dt>AppName</dt>\n                <dd><code>Databricks Shell</code></dd>\n            </dl>\n        </div>\n        \n            </div>\n        ",
       "datasetInfos": [],
       "metadata": {},
       "removedWidgets": [],
       "textData": null,
       "type": "htmlSandbox"
      }
     },
     "output_type": "display_data"
    }
   ],
   "source": [
    "spark"
   ]
  },
  {
   "cell_type": "code",
   "execution_count": 0,
   "metadata": {
    "application/vnd.databricks.v1+cell": {
     "cellMetadata": {},
     "inputWidgets": {},
     "nuid": "c7d5d6fc-ee86-48c8-9752-02450b72c8a0",
     "showTitle": false,
     "title": ""
    }
   },
   "outputs": [],
   "source": [
    "# Leer un CSV \n",
    "membersDF = (spark\n",
    "  .read\n",
    "  .option(\"header\", True)\n",
    "  .option(\"inferSchema\", True)\n",
    "  .csv(\"/FileStore/tables/members.csv\") #Importante aqui utilizaremos la ruta del DBFS\n",
    ") # Importante aqui trabajaremos con toda la data, recuerda quitar el monto\n",
    "\n",
    "menuDF = (spark\n",
    "  .read\n",
    "  .option(\"header\", True)\n",
    "  .option(\"inferSchema\", True)\n",
    "  .csv(\"/FileStore/tables/menu.csv\") #Importante aqui utilizaremos la ruta del DBFS\n",
    ") # Importante aqui trabajaremos con toda la data, recuerda quitar el monto\n",
    "\n",
    "salesDF = (spark\n",
    "  .read\n",
    "  .option(\"header\", True)\n",
    "  .option(\"inferSchema\", True)\n",
    "  .csv(\"/FileStore/tables/sales.csv\") #Importante aqui utilizaremos la ruta del DBFS\n",
    ") # Importante aqui trabajaremos con toda la data, recuerda quitar el monto\n"
   ]
  },
  {
   "cell_type": "code",
   "execution_count": 0,
   "metadata": {
    "application/vnd.databricks.v1+cell": {
     "cellMetadata": {},
     "inputWidgets": {},
     "nuid": "5c0c2962-72a0-4fdb-b54e-754e7dd21aeb",
     "showTitle": false,
     "title": ""
    }
   },
   "outputs": [
    {
     "data": {
      "text/plain": [
       "MembersDF\n"
      ]
     },
     "metadata": {
      "application/vnd.databricks.v1+output": {
       "addedWidgets": {},
       "arguments": {},
       "data": "MembersDF\n",
       "datasetInfos": [],
       "metadata": {},
       "removedWidgets": [],
       "type": "ansi"
      }
     },
     "output_type": "display_data"
    },
    {
     "data": {
      "text/html": [
       "<style scoped>\n",
       "  .table-result-container {\n",
       "    max-height: 300px;\n",
       "    overflow: auto;\n",
       "  }\n",
       "  table, th, td {\n",
       "    border: 1px solid black;\n",
       "    border-collapse: collapse;\n",
       "  }\n",
       "  th, td {\n",
       "    padding: 5px;\n",
       "  }\n",
       "  th {\n",
       "    text-align: left;\n",
       "  }\n",
       "</style><div class='table-result-container'><table class='table-result'><thead style='background-color: white'><tr><th>customer_id</th><th>join_date</th></tr></thead><tbody><tr><td>A</td><td>2021-01-07</td></tr><tr><td>B</td><td>2021-01-09</td></tr></tbody></table></div>"
      ]
     },
     "metadata": {
      "application/vnd.databricks.v1+output": {
       "addedWidgets": {},
       "aggData": [],
       "aggError": "",
       "aggOverflow": false,
       "aggSchema": [],
       "aggSeriesLimitReached": false,
       "aggType": "",
       "arguments": {},
       "columnCustomDisplayInfos": {},
       "data": [
        [
         "A",
         "2021-01-07"
        ],
        [
         "B",
         "2021-01-09"
        ]
       ],
       "datasetInfos": [],
       "dbfsResultPath": null,
       "isJsonSchema": true,
       "metadata": {},
       "overflow": false,
       "plotOptions": {
        "customPlotOptions": {},
        "displayType": "table",
        "pivotAggregation": null,
        "pivotColumns": null,
        "xColumns": null,
        "yColumns": null
       },
       "removedWidgets": [],
       "schema": [
        {
         "metadata": "{}",
         "name": "customer_id",
         "type": "\"string\""
        },
        {
         "metadata": "{\"__detected_date_formats\":\"yyyy-M-d\"}",
         "name": "join_date",
         "type": "\"date\""
        }
       ],
       "type": "table"
      }
     },
     "output_type": "display_data"
    },
    {
     "data": {
      "text/plain": [
       "MenuDF\n"
      ]
     },
     "metadata": {
      "application/vnd.databricks.v1+output": {
       "addedWidgets": {},
       "arguments": {},
       "data": "MenuDF\n",
       "datasetInfos": [],
       "metadata": {},
       "removedWidgets": [],
       "type": "ansi"
      }
     },
     "output_type": "display_data"
    },
    {
     "data": {
      "text/html": [
       "<style scoped>\n",
       "  .table-result-container {\n",
       "    max-height: 300px;\n",
       "    overflow: auto;\n",
       "  }\n",
       "  table, th, td {\n",
       "    border: 1px solid black;\n",
       "    border-collapse: collapse;\n",
       "  }\n",
       "  th, td {\n",
       "    padding: 5px;\n",
       "  }\n",
       "  th {\n",
       "    text-align: left;\n",
       "  }\n",
       "</style><div class='table-result-container'><table class='table-result'><thead style='background-color: white'><tr><th>product_id</th><th>product_name</th><th>price</th></tr></thead><tbody><tr><td>1</td><td>sushi</td><td>10</td></tr><tr><td>2</td><td>curry</td><td>15</td></tr><tr><td>3</td><td>ramen</td><td>12</td></tr></tbody></table></div>"
      ]
     },
     "metadata": {
      "application/vnd.databricks.v1+output": {
       "addedWidgets": {},
       "aggData": [],
       "aggError": "",
       "aggOverflow": false,
       "aggSchema": [],
       "aggSeriesLimitReached": false,
       "aggType": "",
       "arguments": {},
       "columnCustomDisplayInfos": {},
       "data": [
        [
         1,
         "sushi",
         10
        ],
        [
         2,
         "curry",
         15
        ],
        [
         3,
         "ramen",
         12
        ]
       ],
       "datasetInfos": [],
       "dbfsResultPath": null,
       "isJsonSchema": true,
       "metadata": {},
       "overflow": false,
       "plotOptions": {
        "customPlotOptions": {},
        "displayType": "table",
        "pivotAggregation": null,
        "pivotColumns": null,
        "xColumns": null,
        "yColumns": null
       },
       "removedWidgets": [],
       "schema": [
        {
         "metadata": "{}",
         "name": "product_id",
         "type": "\"integer\""
        },
        {
         "metadata": "{}",
         "name": "product_name",
         "type": "\"string\""
        },
        {
         "metadata": "{}",
         "name": "price",
         "type": "\"integer\""
        }
       ],
       "type": "table"
      }
     },
     "output_type": "display_data"
    },
    {
     "data": {
      "text/plain": [
       "SalesDF\n"
      ]
     },
     "metadata": {
      "application/vnd.databricks.v1+output": {
       "addedWidgets": {},
       "arguments": {},
       "data": "SalesDF\n",
       "datasetInfos": [],
       "metadata": {},
       "removedWidgets": [],
       "type": "ansi"
      }
     },
     "output_type": "display_data"
    },
    {
     "data": {
      "text/html": [
       "<style scoped>\n",
       "  .table-result-container {\n",
       "    max-height: 300px;\n",
       "    overflow: auto;\n",
       "  }\n",
       "  table, th, td {\n",
       "    border: 1px solid black;\n",
       "    border-collapse: collapse;\n",
       "  }\n",
       "  th, td {\n",
       "    padding: 5px;\n",
       "  }\n",
       "  th {\n",
       "    text-align: left;\n",
       "  }\n",
       "</style><div class='table-result-container'><table class='table-result'><thead style='background-color: white'><tr><th>customer_id</th><th>order_date</th><th>product_id</th></tr></thead><tbody><tr><td>A</td><td>2021-01-01</td><td>1</td></tr><tr><td>A</td><td>2021-01-01</td><td>2</td></tr><tr><td>A</td><td>2021-01-07</td><td>2</td></tr><tr><td>A</td><td>2021-01-10</td><td>3</td></tr><tr><td>A</td><td>2021-01-11</td><td>3</td></tr><tr><td>A</td><td>2021-01-11</td><td>3</td></tr><tr><td>B</td><td>2021-01-01</td><td>2</td></tr><tr><td>B</td><td>2021-01-02</td><td>2</td></tr><tr><td>B</td><td>2021-01-04</td><td>1</td></tr><tr><td>B</td><td>2021-01-11</td><td>1</td></tr><tr><td>B</td><td>2021-01-16</td><td>3</td></tr><tr><td>B</td><td>2021-02-01</td><td>3</td></tr><tr><td>C</td><td>2021-01-01</td><td>3</td></tr><tr><td>C</td><td>2021-01-01</td><td>3</td></tr><tr><td>C</td><td>2021-01-07</td><td>3</td></tr></tbody></table></div>"
      ]
     },
     "metadata": {
      "application/vnd.databricks.v1+output": {
       "addedWidgets": {},
       "aggData": [],
       "aggError": "",
       "aggOverflow": false,
       "aggSchema": [],
       "aggSeriesLimitReached": false,
       "aggType": "",
       "arguments": {},
       "columnCustomDisplayInfos": {},
       "data": [
        [
         "A",
         "2021-01-01",
         1
        ],
        [
         "A",
         "2021-01-01",
         2
        ],
        [
         "A",
         "2021-01-07",
         2
        ],
        [
         "A",
         "2021-01-10",
         3
        ],
        [
         "A",
         "2021-01-11",
         3
        ],
        [
         "A",
         "2021-01-11",
         3
        ],
        [
         "B",
         "2021-01-01",
         2
        ],
        [
         "B",
         "2021-01-02",
         2
        ],
        [
         "B",
         "2021-01-04",
         1
        ],
        [
         "B",
         "2021-01-11",
         1
        ],
        [
         "B",
         "2021-01-16",
         3
        ],
        [
         "B",
         "2021-02-01",
         3
        ],
        [
         "C",
         "2021-01-01",
         3
        ],
        [
         "C",
         "2021-01-01",
         3
        ],
        [
         "C",
         "2021-01-07",
         3
        ]
       ],
       "datasetInfos": [],
       "dbfsResultPath": null,
       "isJsonSchema": true,
       "metadata": {},
       "overflow": false,
       "plotOptions": {
        "customPlotOptions": {},
        "displayType": "table",
        "pivotAggregation": null,
        "pivotColumns": null,
        "xColumns": null,
        "yColumns": null
       },
       "removedWidgets": [],
       "schema": [
        {
         "metadata": "{}",
         "name": "customer_id",
         "type": "\"string\""
        },
        {
         "metadata": "{\"__detected_date_formats\":\"yyyy-M-d\"}",
         "name": "order_date",
         "type": "\"date\""
        },
        {
         "metadata": "{}",
         "name": "product_id",
         "type": "\"integer\""
        }
       ],
       "type": "table"
      }
     },
     "output_type": "display_data"
    }
   ],
   "source": [
    "print(\"MembersDF\")\n",
    "display(membersDF)\n",
    "print(\"MenuDF\")\n",
    "display(menuDF)\n",
    "print(\"SalesDF\")\n",
    "display(salesDF)"
   ]
  },
  {
   "cell_type": "code",
   "execution_count": 0,
   "metadata": {
    "application/vnd.databricks.v1+cell": {
     "cellMetadata": {},
     "inputWidgets": {},
     "nuid": "0de764af-ab32-421a-8f4e-2f6690cea0ec",
     "showTitle": false,
     "title": ""
    }
   },
   "outputs": [
    {
     "data": {
      "text/plain": [
       "root\n",
       " |-- customer_id: string (nullable = true)\n",
       " |-- order_date: date (nullable = true)\n",
       " |-- product_id: integer (nullable = true)\n",
       "\n"
      ]
     },
     "metadata": {
      "application/vnd.databricks.v1+output": {
       "addedWidgets": {},
       "arguments": {},
       "data": "root\n |-- customer_id: string (nullable = true)\n |-- order_date: date (nullable = true)\n |-- product_id: integer (nullable = true)\n\n",
       "datasetInfos": [],
       "metadata": {},
       "removedWidgets": [],
       "type": "ansi"
      }
     },
     "output_type": "display_data"
    }
   ],
   "source": [
    "salesDF.printSchema()"
   ]
  },
  {
   "cell_type": "code",
   "execution_count": 0,
   "metadata": {
    "application/vnd.databricks.v1+cell": {
     "cellMetadata": {},
     "inputWidgets": {},
     "nuid": "af9d106d-a968-4834-b818-213ba08a13a2",
     "showTitle": false,
     "title": ""
    }
   },
   "outputs": [],
   "source": [
    "#cols = [\"customer_id\",\"product_id\"]\n",
    "#sDF = salesDF.select(*cols)\n",
    "\n",
    "#sDF.show()"
   ]
  },
  {
   "cell_type": "code",
   "execution_count": 0,
   "metadata": {
    "application/vnd.databricks.v1+cell": {
     "cellMetadata": {},
     "inputWidgets": {},
     "nuid": "5d826767-ca1b-46c0-8068-897a8579613b",
     "showTitle": false,
     "title": ""
    }
   },
   "outputs": [
    {
     "data": {
      "text/plain": [
       "+-----------+--------+\n",
       "|customer_id|spending|\n",
       "+-----------+--------+\n",
       "|          A|      76|\n",
       "|          B|      74|\n",
       "|          C|      36|\n",
       "+-----------+--------+\n",
       "\n"
      ]
     },
     "metadata": {
      "application/vnd.databricks.v1+output": {
       "addedWidgets": {},
       "arguments": {},
       "data": "+-----------+--------+\n|customer_id|spending|\n+-----------+--------+\n|          A|      76|\n|          B|      74|\n|          C|      36|\n+-----------+--------+\n\n",
       "datasetInfos": [],
       "metadata": {},
       "removedWidgets": [],
       "type": "ansi"
      }
     },
     "output_type": "display_data"
    }
   ],
   "source": [
    "# ●\t¿Cuál es la cantidad total que gastó cada cliente en el restaurante?\n",
    "\n",
    "# creamos la join expression\n",
    "product_id_join_exp = salesDF[\"product_id\"] == menuDF[\"product_id\"]\n",
    "join_type = \"inner\"\n",
    "\n",
    "#ejecutamos el join\n",
    "sales_menu_product_joinDF = salesDF.join(menuDF, product_id_join_exp, join_type)\n",
    "\n",
    "# Agrupamos por cliente, y sumamos los precios de todos los productos que compró\n",
    "customer_spendingDF = sales_menu_product_joinDF.groupBy(\"customer_id\")\\\n",
    "                                             .agg(sum(\"price\").alias(\"spending\"))\\\n",
    "                                             .orderBy(col(\"customer_id\"))\n",
    "\n",
    "customer_spendingDF.show()\n"
   ]
  },
  {
   "cell_type": "code",
   "execution_count": 0,
   "metadata": {
    "application/vnd.databricks.v1+cell": {
     "cellMetadata": {},
     "inputWidgets": {},
     "nuid": "9daea107-5427-48dd-b40a-71ba60812140",
     "showTitle": false,
     "title": ""
    }
   },
   "outputs": [
    {
     "data": {
      "text/plain": [
       "+-----------+------+\n",
       "|customer_id|visits|\n",
       "+-----------+------+\n",
       "|          A|     6|\n",
       "|          B|     6|\n",
       "|          C|     3|\n",
       "+-----------+------+\n",
       "\n"
      ]
     },
     "metadata": {
      "application/vnd.databricks.v1+output": {
       "addedWidgets": {},
       "arguments": {},
       "data": "+-----------+------+\n|customer_id|visits|\n+-----------+------+\n|          A|     6|\n|          B|     6|\n|          C|     3|\n+-----------+------+\n\n",
       "datasetInfos": [],
       "metadata": {},
       "removedWidgets": [],
       "type": "ansi"
      }
     },
     "output_type": "display_data"
    }
   ],
   "source": [
    "# ●\t¿Cuántos días ha visitado cada cliente el restaurante?\n",
    "\n",
    "customer_visitsDF = salesDF.groupBy(\"customer_id\",\"order_date\")\\\n",
    "                            .count()\\\n",
    "                            .groupBy(\"customer_id\").sum()\\\n",
    "                            .orderBy(col(\"customer_id\"))\\\n",
    "                            .select(\"customer_id\", col(\"sum(count)\").alias(\"visits\"))\n",
    "\n",
    "customer_visitsDF.show()"
   ]
  },
  {
   "cell_type": "code",
   "execution_count": 0,
   "metadata": {
    "application/vnd.databricks.v1+cell": {
     "cellMetadata": {},
     "inputWidgets": {},
     "nuid": "3bf1ca4b-c6b3-4ec9-acbe-e6b9b7614dc0",
     "showTitle": false,
     "title": ""
    }
   },
   "outputs": [
    {
     "data": {
      "text/plain": [
       "+-----------+----------+------------+\n",
       "|customer_id|order_date|product_name|\n",
       "+-----------+----------+------------+\n",
       "|          A|2021-01-01|       curry|\n",
       "|          A|2021-01-01|       sushi|\n",
       "|          B|2021-01-01|       curry|\n",
       "|          C|2021-01-01|       ramen|\n",
       "+-----------+----------+------------+\n",
       "\n"
      ]
     },
     "metadata": {
      "application/vnd.databricks.v1+output": {
       "addedWidgets": {},
       "arguments": {},
       "data": "+-----------+----------+------------+\n|customer_id|order_date|product_name|\n+-----------+----------+------------+\n|          A|2021-01-01|       curry|\n|          A|2021-01-01|       sushi|\n|          B|2021-01-01|       curry|\n|          C|2021-01-01|       ramen|\n+-----------+----------+------------+\n\n",
       "datasetInfos": [],
       "metadata": {},
       "removedWidgets": [],
       "type": "ansi"
      }
     },
     "output_type": "display_data"
    }
   ],
   "source": [
    "# ●\t¿Cuál fue el primer artículo del menú comprado por cada cliente?\n",
    "\n",
    "first_pruchaseDF = salesDF.groupBy(\"customer_id\")\\\n",
    "                           .agg(min(\"order_date\").alias(\"first_pruchase\"))\n",
    "\n",
    "customer_joinExp = first_pruchaseDF[\"customer_id\"] == salesDF[\"customer_id\"]\n",
    "date_joinExp = first_pruchaseDF[\"first_pruchase\"] == salesDF[\"order_date\"]\n",
    "joinExp = customer_joinExp & date_joinExp\n",
    "\n",
    "first_purchase_productsDF = salesDF.join(first_pruchaseDF, joinExp)\\\n",
    "                                   .drop(first_pruchaseDF[\"customer_id\"])\\\n",
    "                                   .drop(first_pruchaseDF[\"first_pruchase\"])\n",
    "\n",
    "first_articleDF = first_purchase_productsDF.join(menuDF, [\"product_id\"])\\\n",
    "                                           .select(\"customer_id\",\"order_date\",\"product_name\")\\\n",
    "                                           .dropDuplicates()\\\n",
    "                                           .orderBy(\"customer_id\")\n",
    "\n",
    "first_articleDF.show()"
   ]
  },
  {
   "cell_type": "code",
   "execution_count": 0,
   "metadata": {
    "application/vnd.databricks.v1+cell": {
     "cellMetadata": {},
     "inputWidgets": {},
     "nuid": "6e669ef2-3e1f-43ed-bd20-36fb9a0da02e",
     "showTitle": false,
     "title": ""
    }
   },
   "outputs": [
    {
     "data": {
      "text/plain": [
       "+----------+-----+------------+\n",
       "|product_id|count|product_name|\n",
       "+----------+-----+------------+\n",
       "|         3|    8|       ramen|\n",
       "+----------+-----+------------+\n",
       "\n",
       "+-----------+-----+\n",
       "|customer_id|count|\n",
       "+-----------+-----+\n",
       "|          A|    3|\n",
       "|          B|    2|\n",
       "|          C|    3|\n",
       "+-----------+-----+\n",
       "\n"
      ]
     },
     "metadata": {
      "application/vnd.databricks.v1+output": {
       "addedWidgets": {},
       "arguments": {},
       "data": "+----------+-----+------------+\n|product_id|count|product_name|\n+----------+-----+------------+\n|         3|    8|       ramen|\n+----------+-----+------------+\n\n+-----------+-----+\n|customer_id|count|\n+-----------+-----+\n|          A|    3|\n|          B|    2|\n|          C|    3|\n+-----------+-----+\n\n",
       "datasetInfos": [],
       "metadata": {},
       "removedWidgets": [],
       "type": "ansi"
      }
     },
     "output_type": "display_data"
    }
   ],
   "source": [
    "# ●\t¿Cuál es el artículo más comprado en el menú y cuántas veces lo compraron todos los clientes?\n",
    "\n",
    "most_purchasedDF = salesDF.groupBy(\"product_id\")\\\n",
    "                           .count()\\\n",
    "                           .orderBy(desc(\"count\"))\\\n",
    "                           .limit(1)\n",
    "\n",
    "most_purchasedDF.join(menuDF.select(\"product_id\",\"product_name\"),\n",
    "                      [\"product_id\"]).show()\n",
    "\n",
    "most_purchased_product_id = most_purchasedDF.select(\"product_id\").toPandas()['product_id'].values[0]\n",
    "\n",
    "#print(most_purchased_product_id)\n",
    "#print(type(int(most_purchased_product_id)))\n",
    "\n",
    "purchase_by_customerDF = salesDF.filter( col(\"product_id\") == int(most_purchased_product_id) )\\\n",
    "                                .groupBy(\"customer_id\")\\\n",
    "                                .count()\\\n",
    "                                .orderBy(\"customer_id\")\\\n",
    "                                .show()"
   ]
  },
  {
   "cell_type": "code",
   "execution_count": 0,
   "metadata": {
    "application/vnd.databricks.v1+cell": {
     "cellMetadata": {},
     "inputWidgets": {},
     "nuid": "c0830b01-0f92-433c-baac-1014a59f93ba",
     "showTitle": false,
     "title": ""
    }
   },
   "outputs": [
    {
     "data": {
      "text/plain": [
       "+-----------+----------+-----+\n",
       "|customer_id|product_id|count|\n",
       "+-----------+----------+-----+\n",
       "|          A|         3|    3|\n",
       "|          B|         1|    2|\n",
       "|          C|         3|    3|\n",
       "+-----------+----------+-----+\n",
       "\n"
      ]
     },
     "metadata": {
      "application/vnd.databricks.v1+output": {
       "addedWidgets": {},
       "arguments": {},
       "data": "+-----------+----------+-----+\n|customer_id|product_id|count|\n+-----------+----------+-----+\n|          A|         3|    3|\n|          B|         1|    2|\n|          C|         3|    3|\n+-----------+----------+-----+\n\n",
       "datasetInfos": [],
       "metadata": {},
       "removedWidgets": [],
       "type": "ansi"
      }
     },
     "output_type": "display_data"
    }
   ],
   "source": [
    "# ●\t¿Qué artículo fue el más popular para cada cliente?\n",
    "# https://sparkbyexamples.com/pyspark/pyspark-select-first-row-of-each-group/\n",
    "\n",
    "from pyspark.sql.window import Window\n",
    "\n",
    "win = Window().partitionBy(\"customer_id\").orderBy(col(\"count\").desc())\n",
    "\n",
    "popular_productsDF = salesDF.groupby(\"customer_id\",\"product_id\")\\\n",
    "                           .count()\\\n",
    "                           .withColumn(\"row\", row_number().over(win))\\\n",
    "                           .filter(col(\"row\") == 1).drop(\"row\")\n",
    "\n",
    "popular_productsDF.show()"
   ]
  },
  {
   "cell_type": "code",
   "execution_count": 0,
   "metadata": {
    "application/vnd.databricks.v1+cell": {
     "cellMetadata": {},
     "inputWidgets": {},
     "nuid": "57e4a134-e897-4ee9-b58d-c4dc28087743",
     "showTitle": false,
     "title": ""
    }
   },
   "outputs": [
    {
     "data": {
      "text/plain": [
       "+-----------+----------+----------+----------+------------+-----+\n",
       "|customer_id|order_date|product_id| join_date|product_name|price|\n",
       "+-----------+----------+----------+----------+------------+-----+\n",
       "|          A|2021-01-07|         2|2021-01-07|       curry|   15|\n",
       "|          B|2021-01-11|         1|2021-01-09|       sushi|   10|\n",
       "+-----------+----------+----------+----------+------------+-----+\n",
       "\n"
      ]
     },
     "metadata": {
      "application/vnd.databricks.v1+output": {
       "addedWidgets": {},
       "arguments": {},
       "data": "+-----------+----------+----------+----------+------------+-----+\n|customer_id|order_date|product_id| join_date|product_name|price|\n+-----------+----------+----------+----------+------------+-----+\n|          A|2021-01-07|         2|2021-01-07|       curry|   15|\n|          B|2021-01-11|         1|2021-01-09|       sushi|   10|\n+-----------+----------+----------+----------+------------+-----+\n\n",
       "datasetInfos": [],
       "metadata": {},
       "removedWidgets": [],
       "type": "ansi"
      }
     },
     "output_type": "display_data"
    }
   ],
   "source": [
    "# ●\t¿Qué artículo compró primero el cliente después de convertirse en miembro?\n",
    "\n",
    "win2 = Window().partitionBy(\"customer_id\").orderBy(col(\"order_date\").asc())\n",
    "\n",
    "ranked_datesDF = salesDF.join(membersDF,[\"customer_id\"])\\\n",
    "                       .filter(col(\"order_date\") >= col(\"join_date\"))\\\n",
    "                       .withColumn(\"row\", row_number().over(win2))\n",
    "                       #.drop(\"join_date\")\\\n",
    "                       \n",
    "#ranked_datesDF.show()\n",
    "columns = ranked_datesDF.columns + menuDF.columns\n",
    "final_columns = []\n",
    "[final_columns.append(col) for col in columns if  ( (col not in final_columns) and (col != 'row') ) ]\n",
    "\n",
    "first_purchase_as_memberDF = ranked_datesDF.filter(col(\"row\") == 1)\\\n",
    "                                           .drop(\"row\")\\\n",
    "                                           .join(menuDF, [\"product_id\"])\n",
    "\n",
    "#first_purchase_as_memberDF.show() \n",
    "first_purchase_as_memberDF.select(*final_columns).show() "
   ]
  },
  {
   "cell_type": "code",
   "execution_count": 0,
   "metadata": {
    "application/vnd.databricks.v1+cell": {
     "cellMetadata": {},
     "inputWidgets": {},
     "nuid": "408ac0aa-40a5-4ceb-833f-f189517b1530",
     "showTitle": false,
     "title": ""
    }
   },
   "outputs": [
    {
     "data": {
      "text/plain": [
       "+-----------+----------+----------+----------+---+\n",
       "|customer_id|order_date|product_id| join_date|row|\n",
       "+-----------+----------+----------+----------+---+\n",
       "|          A|2021-01-01|         1|2021-01-07|  1|\n",
       "|          A|2021-01-01|         2|2021-01-07|  2|\n",
       "|          B|2021-01-01|         2|2021-01-09|  1|\n",
       "|          B|2021-01-02|         2|2021-01-09|  2|\n",
       "|          B|2021-01-04|         1|2021-01-09|  3|\n",
       "+-----------+----------+----------+----------+---+\n",
       "\n",
       "+-----------+----------+------------+----------+----------+\n",
       "|customer_id|product_id|product_name|order_date| join_date|\n",
       "+-----------+----------+------------+----------+----------+\n",
       "|          A|         2|       curry|2021-01-07|2021-01-07|\n",
       "|          B|         1|       sushi|2021-01-11|2021-01-09|\n",
       "+-----------+----------+------------+----------+----------+\n",
       "\n"
      ]
     },
     "metadata": {
      "application/vnd.databricks.v1+output": {
       "addedWidgets": {},
       "arguments": {},
       "data": "+-----------+----------+----------+----------+---+\n|customer_id|order_date|product_id| join_date|row|\n+-----------+----------+----------+----------+---+\n|          A|2021-01-01|         1|2021-01-07|  1|\n|          A|2021-01-01|         2|2021-01-07|  2|\n|          B|2021-01-01|         2|2021-01-09|  1|\n|          B|2021-01-02|         2|2021-01-09|  2|\n|          B|2021-01-04|         1|2021-01-09|  3|\n+-----------+----------+----------+----------+---+\n\n+-----------+----------+------------+----------+----------+\n|customer_id|product_id|product_name|order_date| join_date|\n+-----------+----------+------------+----------+----------+\n|          A|         2|       curry|2021-01-07|2021-01-07|\n|          B|         1|       sushi|2021-01-11|2021-01-09|\n+-----------+----------+------------+----------+----------+\n\n",
       "datasetInfos": [],
       "metadata": {},
       "removedWidgets": [],
       "type": "ansi"
      }
     },
     "output_type": "display_data"
    }
   ],
   "source": [
    "# ●\t¿Qué artículo se compró justo antes de que el cliente se convirtiera en miembro?\n",
    "\n",
    "win3 = Window().partitionBy(\"customer_id\").orderBy(col(\"order_date\").desc())\n",
    "\n",
    "purchases_before_membershipsDF = salesDF.join(membersDF,[\"customer_id\"])\\\n",
    "                                       .filter(col(\"order_date\") < col(\"join_date\"))\\\n",
    "                                       .withColumn(\"row\", row_number().over(win2))\n",
    "\n",
    "purchases_before_membershipsDF.show()\n",
    "\n",
    "last_purchase_before_memberDF = ranked_datesDF.filter(col(\"row\") == 1)\\\n",
    "                                           .drop(\"row\")\\\n",
    "                                           .join(menuDF, [\"product_id\"])\n",
    "\n",
    "last_purchase_before_memberDF.select(\"customer_id\",\"product_id\",\"product_name\",\"order_date\",\"join_date\").show()"
   ]
  },
  {
   "cell_type": "code",
   "execution_count": 0,
   "metadata": {
    "application/vnd.databricks.v1+cell": {
     "cellMetadata": {},
     "inputWidgets": {},
     "nuid": "56a69fc0-fbb0-4808-afb6-fe05679205a4",
     "showTitle": false,
     "title": ""
    }
   },
   "outputs": [
    {
     "data": {
      "text/plain": [
       "+-----------+------------------------------+-----+\n",
       "|customer_id|num_products_before_membership|spent|\n",
       "+-----------+------------------------------+-----+\n",
       "|          A|                             2|   25|\n",
       "|          B|                             3|   40|\n",
       "+-----------+------------------------------+-----+\n",
       "\n"
      ]
     },
     "metadata": {
      "application/vnd.databricks.v1+output": {
       "addedWidgets": {},
       "arguments": {},
       "data": "+-----------+------------------------------+-----+\n|customer_id|num_products_before_membership|spent|\n+-----------+------------------------------+-----+\n|          A|                             2|   25|\n|          B|                             3|   40|\n+-----------+------------------------------+-----+\n\n",
       "datasetInfos": [],
       "metadata": {},
       "removedWidgets": [],
       "type": "ansi"
      }
     },
     "output_type": "display_data"
    }
   ],
   "source": [
    "# ●\t¿Cuál es el total de artículos y la cantidad gastada por cada miembro antes de convertirse en miembro?\n",
    "purchases_before_membershipsDF.join(menuDF, [\"product_id\"])\\\n",
    "                              .groupBy(\"customer_id\")\\\n",
    "                              .agg(count(\"product_id\").alias(\"num_products_before_membership\"),\n",
    "                                    sum(\"price\").alias(\"spent\"))\\\n",
    "                              .orderBy(\"customer_id\").show()"
   ]
  },
  {
   "cell_type": "code",
   "execution_count": 0,
   "metadata": {
    "application/vnd.databricks.v1+cell": {
     "cellMetadata": {},
     "inputWidgets": {},
     "nuid": "0a7209da-5e17-4b55-8376-78b4653dc5f4",
     "showTitle": false,
     "title": ""
    }
   },
   "outputs": [
    {
     "data": {
      "text/plain": [
       "+-----------+-----------+\n",
       "|customer_id|sum(points)|\n",
       "+-----------+-----------+\n",
       "|          B|        940|\n",
       "|          C|        360|\n",
       "|          A|        860|\n",
       "+-----------+-----------+\n",
       "\n"
      ]
     },
     "metadata": {
      "application/vnd.databricks.v1+output": {
       "addedWidgets": {},
       "arguments": {},
       "data": "+-----------+-----------+\n|customer_id|sum(points)|\n+-----------+-----------+\n|          B|        940|\n|          C|        360|\n|          A|        860|\n+-----------+-----------+\n\n",
       "datasetInfos": [],
       "metadata": {},
       "removedWidgets": [],
       "type": "ansi"
      }
     },
     "output_type": "display_data"
    }
   ],
   "source": [
    "# ●\tSi cada $ 1 gastado equivale a 10 puntos y el sushi tiene un multiplicador de puntos 2x, ¿cuántos puntos tendría cada cliente?\n",
    "# https://sparkbyexamples.com/pyspark/pyspark-when-otherwise/\n",
    "salesDF.join(menuDF, [\"product_id\"])\\\n",
    "       .withColumn(\"points\", when(col(\"product_name\") == 'sushi', col(\"price\")*20  )\n",
    "                            .otherwise(col(\"price\")*10)\n",
    "                  )\\\n",
    "        .groupBy(\"customer_id\")\\\n",
    "        .sum(\"points\")\\\n",
    "        .orderBy(\"customer_id\")\\\n",
    "        .show()"
   ]
  },
  {
   "cell_type": "code",
   "execution_count": 0,
   "metadata": {
    "application/vnd.databricks.v1+cell": {
     "cellMetadata": {},
     "inputWidgets": {},
     "nuid": "ce218d8f-c56f-4945-b47f-c595c46ef8e2",
     "showTitle": false,
     "title": ""
    }
   },
   "outputs": [
    {
     "data": {
      "text/plain": [
       "+-----------+----------+----------+------------+-----+----------+------------+------+\n",
       "|customer_id|product_id|order_date|product_name|price| join_date|TimeDiffDays|points|\n",
       "+-----------+----------+----------+------------+-----+----------+------------+------+\n",
       "|          A|         1|2021-01-01|       sushi|   10|2021-01-07|        -6.0|   200|\n",
       "|          A|         2|2021-01-01|       curry|   15|2021-01-07|        -6.0|   150|\n",
       "|          A|         2|2021-01-07|       curry|   15|2021-01-07|         0.0|   300|\n",
       "|          A|         3|2021-01-10|       ramen|   12|2021-01-07|         3.0|   240|\n",
       "|          A|         3|2021-01-11|       ramen|   12|2021-01-07|         4.0|   240|\n",
       "|          A|         3|2021-01-11|       ramen|   12|2021-01-07|         4.0|   240|\n",
       "|          B|         2|2021-01-01|       curry|   15|2021-01-09|        -8.0|   150|\n",
       "|          B|         2|2021-01-02|       curry|   15|2021-01-09|        -7.0|   150|\n",
       "|          B|         1|2021-01-04|       sushi|   10|2021-01-09|        -5.0|   200|\n",
       "|          B|         1|2021-01-11|       sushi|   10|2021-01-09|         2.0|   200|\n",
       "|          B|         3|2021-01-16|       ramen|   12|2021-01-09|         7.0|   240|\n",
       "|          B|         3|2021-02-01|       ramen|   12|2021-01-09|        23.0|   120|\n",
       "|          C|         3|2021-01-01|       ramen|   12|      null|        null|   120|\n",
       "|          C|         3|2021-01-01|       ramen|   12|      null|        null|   120|\n",
       "|          C|         3|2021-01-07|       ramen|   12|      null|        null|   120|\n",
       "+-----------+----------+----------+------------+-----+----------+------------+------+\n",
       "\n",
       "+-----------+-----------+\n",
       "|customer_id|sum(points)|\n",
       "+-----------+-----------+\n",
       "|          A|       1370|\n",
       "|          B|       1060|\n",
       "|          C|        360|\n",
       "+-----------+-----------+\n",
       "\n"
      ]
     },
     "metadata": {
      "application/vnd.databricks.v1+output": {
       "addedWidgets": {},
       "arguments": {},
       "data": "+-----------+----------+----------+------------+-----+----------+------------+------+\n|customer_id|product_id|order_date|product_name|price| join_date|TimeDiffDays|points|\n+-----------+----------+----------+------------+-----+----------+------------+------+\n|          A|         1|2021-01-01|       sushi|   10|2021-01-07|        -6.0|   200|\n|          A|         2|2021-01-01|       curry|   15|2021-01-07|        -6.0|   150|\n|          A|         2|2021-01-07|       curry|   15|2021-01-07|         0.0|   300|\n|          A|         3|2021-01-10|       ramen|   12|2021-01-07|         3.0|   240|\n|          A|         3|2021-01-11|       ramen|   12|2021-01-07|         4.0|   240|\n|          A|         3|2021-01-11|       ramen|   12|2021-01-07|         4.0|   240|\n|          B|         2|2021-01-01|       curry|   15|2021-01-09|        -8.0|   150|\n|          B|         2|2021-01-02|       curry|   15|2021-01-09|        -7.0|   150|\n|          B|         1|2021-01-04|       sushi|   10|2021-01-09|        -5.0|   200|\n|          B|         1|2021-01-11|       sushi|   10|2021-01-09|         2.0|   200|\n|          B|         3|2021-01-16|       ramen|   12|2021-01-09|         7.0|   240|\n|          B|         3|2021-02-01|       ramen|   12|2021-01-09|        23.0|   120|\n|          C|         3|2021-01-01|       ramen|   12|      null|        null|   120|\n|          C|         3|2021-01-01|       ramen|   12|      null|        null|   120|\n|          C|         3|2021-01-07|       ramen|   12|      null|        null|   120|\n+-----------+----------+----------+------------+-----+----------+------------+------+\n\n+-----------+-----------+\n|customer_id|sum(points)|\n+-----------+-----------+\n|          A|       1370|\n|          B|       1060|\n|          C|        360|\n+-----------+-----------+\n\n",
       "datasetInfos": [],
       "metadata": {},
       "removedWidgets": [],
       "type": "ansi"
      }
     },
     "output_type": "display_data"
    }
   ],
   "source": [
    "# ●\tEn la primera semana después de que un cliente se une al programa (incluida la fecha de ingreso), gana el doble de puntos en todos los artículos, no solo en sushi. ¿Cuántos puntos tienen los clientes A y B a fines de enero?\n",
    "\n",
    "pointsDF = salesDF.join(menuDF, [\"product_id\"])\\\n",
    "                   .join(membersDF, [\"customer_id\"], \"left_outer\")\\\n",
    "                   .withColumn(\"TimeDiffDays\", ((unix_timestamp(\"order_date\") - unix_timestamp('join_date'))/(60*60*24) ) )\\\n",
    "                   .withColumn(\"points\", when( (col(\"product_name\") == 'sushi') | (col(\"TimeDiffDays\").between(0,7)),\n",
    "                                                col(\"price\")*20  )\n",
    "                                        .otherwise(col(\"price\")*10)\n",
    "                              )\n",
    "\n",
    "pointsDF.show()\n",
    "\n",
    "pointsDF.groupBy(\"customer_id\").sum(\"points\").orderBy(\"customer_id\").show()"
   ]
  }
 ],
 "metadata": {
  "application/vnd.databricks.v1+notebook": {
   "dashboards": [],
   "language": "python",
   "notebookMetadata": {
    "pythonIndentUnit": 4
   },
   "notebookName": "Tarea1_Spark_AndresLeal",
   "notebookOrigID": 230106565882939,
   "widgets": {}
  },
  "hide_input": false,
  "kernelspec": {
   "display_name": "Python 3 (ipykernel)",
   "language": "python",
   "name": "python3"
  },
  "language_info": {
   "codemirror_mode": {
    "name": "ipython",
    "version": 3
   },
   "file_extension": ".py",
   "mimetype": "text/x-python",
   "name": "python",
   "nbconvert_exporter": "python",
   "pygments_lexer": "ipython3",
   "version": "3.10.6"
  },
  "toc": {
   "base_numbering": 1,
   "nav_menu": {},
   "number_sections": true,
   "sideBar": true,
   "skip_h1_title": false,
   "title_cell": "Table of Contents",
   "title_sidebar": "Contents",
   "toc_cell": false,
   "toc_position": {},
   "toc_section_display": true,
   "toc_window_display": false
  }
 },
 "nbformat": 4,
 "nbformat_minor": 1
}
